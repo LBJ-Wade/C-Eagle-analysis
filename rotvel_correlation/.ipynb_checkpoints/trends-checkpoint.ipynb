{
 "cells": [
  {
   "cell_type": "markdown",
   "metadata": {},
   "source": [
    "# <span style=\"color:red\"> Simstats trends </span>\n",
    "\n",
    "This notebook gathers the output of the `simstats.py` and produces plots using `pandas`'s SQL `query` functionality.\n",
    "Datasets are imported in `hdf5` format and they consist in one file for each simulation. The file contains different *import keys*, the first one for metadata (or attributes in `hdf5` language), while the rest contain cluster informations for the whole simulation at a specific aperture. The relative *iimport keys* are therefore strings of the form `aperture{index: int = 0-18}`."
   ]
  },
  {
   "cell_type": "code",
   "execution_count": null,
   "metadata": {},
   "outputs": [],
   "source": [
    "import sys\n",
    "import os\n",
    "import warnings\n",
    "import itertools\n",
    "from typing import Union\n",
    "import numpy as np\n",
    "import pandas as pd\n",
    "\n",
    "parentdir = os.path.join(os.path.dirname(__file__), os.path.pardir)\n",
    "exec(open(os.path.abspath(os.path.join(parentdir, 'visualisation', 'light_mode.py'))).read())\n",
    "sys.path.append(os.path.abspath(parentdir))\n",
    "\n",
    "from import_toolkit.cluster import Cluster\n",
    "from import_toolkit.simulation import Simulation\n",
    "from import_toolkit.progressbar import ProgressBar\n",
    "from rotvel_correlation.simstats import Simstats"
   ]
  },
  {
   "cell_type": "code",
   "execution_count": 0,
   "metadata": {
    "pycharm": {
     "is_executing": false,
     "name": "#%%\n"
    }
   },
   "outputs": [],
   "source": [
    "simstats = Simstats(simulation_name='celr_b', aperture_id=10)\n",
    "simstats.make_simstats(save2hdf5=True)\n",
    "stats_out = simstats.read_simstats()\n",
    "print(stats_out.query('cluster_id == 0 and redshift_float < 0.1')['redshift_float'])\n",
    "print(stats_out.metadata)\n"
   ]
  }
 ],
 "metadata": {
  "kernelspec": {
   "display_name": "Python 3",
   "language": "python",
   "name": "python3"
  },
  "language_info": {
   "codemirror_mode": {
    "name": "ipython",
    "version": 3
   },
   "file_extension": ".py",
   "mimetype": "text/x-python",
   "name": "python",
   "nbconvert_exporter": "python",
   "pygments_lexer": "ipython3",
   "version": "3.6.8"
  },
  "pycharm": {
   "stem_cell": {
    "cell_type": "raw",
    "metadata": {
     "collapsed": false
    },
    "source": []
   }
  }
 },
 "nbformat": 4,
 "nbformat_minor": 1
}
