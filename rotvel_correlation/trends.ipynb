{
 "cells": [
  {
   "cell_type": "markdown",
   "metadata": {},
   "source": [
    "# <span style=\"color:red\"> Simstats trends </span>\n",
    "\n",
    "This notebook gathers the output of the `simstats.py` and produces plots using `pandas`'s SQL `query` functionality.\n",
    "Datasets are imported in `hdf5` format and they consist in one file for each simulation. The file contains different *import keys*, the first one for metadata (or attributes in `hdf5` language), while the rest contain cluster informations for the whole simulation at a specific aperture. The relative *import keys* are therefore strings of the form `aperture{index: int = 0-18}`."
   ]
  },
  {
   "cell_type": "markdown",
   "metadata": {
    "pycharm": {
     "name": "#%% md\n"
    }
   },
   "source": [
    "### Dependencies\n",
    "\n",
    "Import system modules, statistics and plotting, plus project dependencies."
   ]
  },
  {
   "cell_type": "code",
   "execution_count": null,
   "outputs": [],
   "source": [
    "import sys\n",
    "import os\n",
    "import warnings\n",
    "import itertools\n",
    "from typing import Union, List\n",
    "import numpy as np\n",
    "import pandas as pd\n",
    "\n",
    "import matplotlib.pyplot as plt\n",
    "%matplotlib inline\n",
    "from matplotlib.lines import Line2D\n",
    "from matplotlib.patches import Patch\n",
    "from matplotlib.axes import Axes\n",
    "from matplotlib.figure import Figure\n",
    "from matplotlib.gridspec import GridSpec\n",
    "from mpl_toolkits.axes_grid1 import make_axes_locatable"
   ],
   "metadata": {
    "collapsed": false,
    "pycharm": {
     "name": "#%%\n"
    }
   }
  },
  {
   "cell_type": "code",
   "execution_count": null,
   "outputs": [],
   "source": [
    "parentdir = os.path.join(os.path.dirname(__file__), os.path.pardir)\n",
    "exec(open(os.path.abspath(os.path.join(parentdir, 'visualisation', 'light_mode.py'))).read())\n",
    "sys.path.append(os.path.abspath(parentdir))\n",
    "\n",
    "from import_toolkit.cluster import Cluster\n",
    "from import_toolkit.simulation import Simulation\n",
    "from import_toolkit.progressbar import ProgressBar\n",
    "from rotvel_correlation.simstats import Simstats"
   ],
   "metadata": {
    "collapsed": false,
    "pycharm": {
     "name": "#%%\n"
    }
   }
  },
  {
   "cell_type": "markdown",
   "metadata": {
    "pycharm": {
     "is_executing": false,
     "name": "#%% md\n"
    }
   },
   "source": [
    "Import the dataset from three simulations and retrieve a single aperture for each of them."
   ]
  },
  {
   "cell_type": "code",
   "execution_count": null,
   "outputs": [],
   "source": [
    "aperture_id = 0\n",
    "simstats = list()\n",
    "simstats.append(Simstats(simulation_name='macsis', aperture_id=aperture_id))\n",
    "simstats.append(Simstats(simulation_name='celr_e', aperture_id=aperture_id))\n",
    "simstats.append(Simstats(simulation_name='celr_b', aperture_id=aperture_id))\n",
    "stats_out = [sim.read_simstats() for sim in simstats]"
   ],
   "metadata": {
    "collapsed": false,
    "pycharm": {
     "name": "#%%\n"
    }
   }
  },
  {
   "cell_type": "markdown",
   "source": [
    "List the available datasets."
   ],
   "metadata": {
    "collapsed": false
   }
  },
  {
   "cell_type": "code",
   "execution_count": null,
   "outputs": [],
   "source": [
    "stats_out[0].columns"
   ],
   "metadata": {
    "collapsed": false,
    "pycharm": {
     "name": "#%%\n"
    }
   }
  },
  {
   "cell_type": "markdown",
   "source": [
    "Formulate SQL queries for selecting subsets of the dataset."
   ],
   "metadata": {
    "collapsed": false
   }
  },
  {
   "cell_type": "code",
   "execution_count": null,
   "outputs": [],
   "source": [
    "query_COLLECTIVE = list()\n",
    "query_COLLECTIVE.append('redshift_float < 0.7')\n",
    "query_COLLECTIVE.append('M_200_crit > 10**13')\n",
    "query_COLLECTIVE.append('thermodynamic_merging_index_T < 0.1')\n",
    " \n",
    "stats_filtered = [stat.query(' and '.join(query_COLLECTIVE)) for stat in stats_out]"
   ],
   "metadata": {
    "collapsed": false,
    "pycharm": {
     "name": "#%%\n"
    }
   }
  },
  {
   "cell_type": "markdown",
   "source": [
    "Create `matplotlib` figure."
   ],
   "metadata": {
    "collapsed": false
   }
  },
  {
   "cell_type": "code",
   "execution_count": null,
   "outputs": [],
   "source": [
    "fig = plt.figure(figsize=(15, 10), constrained_layout=True)\n",
    "gs = GridSpec(2, 3, figure=fig)\n",
    "gs.update(wspace=0.05, hspace=0.05)\n",
    "ax1 = fig.add_subplot(gs[1])\n",
    "ax2 = fig.add_subplot(gs[3])\n",
    "ax3 = fig.add_subplot(gs[4])\n",
    "ax4 = fig.add_subplot(gs[5])\n",
    "ax1.set_aspect('equal')\n",
    "ax2.set_aspect('equal')\n",
    "ax3.set_aspect('equal')\n",
    "ax4.set_aspect('equal')\n",
    "ax1.set_xticklabels([])\n",
    "ax3.set_yticklabels([])\n",
    "ax4.set_yticklabels([])\n",
    "\n"
   ],
   "metadata": {
    "collapsed": false,
    "pycharm": {
     "name": "#%%\n"
    }
   }
  }
 ],
 "metadata": {
  "kernelspec": {
   "display_name": "Python 3",
   "language": "python",
   "name": "python3"
  },
  "language_info": {
   "codemirror_mode": {
    "name": "ipython",
    "version": 3
   },
   "file_extension": ".py",
   "mimetype": "text/x-python",
   "name": "python",
   "nbconvert_exporter": "python",
   "pygments_lexer": "ipython3",
   "version": "3.6.8"
  },
  "pycharm": {
   "stem_cell": {
    "cell_type": "raw",
    "source": [],
    "metadata": {
     "collapsed": false
    }
   }
  }
 },
 "nbformat": 4,
 "nbformat_minor": 1
}